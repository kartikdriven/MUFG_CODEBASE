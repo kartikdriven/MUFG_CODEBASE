{
 "cells": [
  {
   "cell_type": "markdown",
   "id": "ce98944e",
   "metadata": {},
   "source": [
    "# Linear Search Algorithm \n",
    "\n",
    "##  What is Linear Search?\n",
    "Linear Search is a simple searching algorithm used to find the position of a target value within a list. It sequentially checks each element of the list until a match is found or the whole list has been searched.\n",
    "\n",
    "---\n",
    "\n",
    "## Function\n",
    "- Takes an array and a target value as input.\n",
    "- Compares the target with each element in the array.\n",
    "- Returns the index if the target is found.\n",
    "- Returns -1 if the target is not found.\n",
    "\n",
    "---\n",
    "\n",
    "## Use Cases\n",
    "- Small or unsorted datasets.\n",
    "- Quick one-time searches.\n",
    "- When simplicity is more important than performance.\n",
    "\n",
    "---\n",
    "\n",
    "##  Time Complexity\n",
    "- **Best Case:** O(1) (if the target is at the start)\n",
    "- **Average/Worst Case:** O(n)\n",
    "\n",
    "##  Space Complexity\n",
    "- **O(1)** (constant space, no extra memory used)\n"
   ]
  }
 ],
 "metadata": {
  "language_info": {
   "name": "python"
  }
 },
 "nbformat": 4,
 "nbformat_minor": 5
}
